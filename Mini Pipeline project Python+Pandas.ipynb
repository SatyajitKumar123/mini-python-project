{
 "cells": [
  {
   "cell_type": "code",
   "execution_count": 1,
   "id": "d0968790-0f66-4b9d-978b-c0499f75aaba",
   "metadata": {},
   "outputs": [],
   "source": [
    "import pandas as pd"
   ]
  },
  {
   "cell_type": "code",
   "execution_count": 2,
   "id": "b7c2378b-b4db-43a8-b506-9c381d28d754",
   "metadata": {},
   "outputs": [],
   "source": [
    "df = pd.read_csv(r\"Downloads/sales.csv\")"
   ]
  },
  {
   "cell_type": "code",
   "execution_count": 3,
   "id": "788a9123-e23b-496f-b009-8d5a7bcdcac8",
   "metadata": {},
   "outputs": [
    {
     "data": {
      "text/html": [
       "<div>\n",
       "<style scoped>\n",
       "    .dataframe tbody tr th:only-of-type {\n",
       "        vertical-align: middle;\n",
       "    }\n",
       "\n",
       "    .dataframe tbody tr th {\n",
       "        vertical-align: top;\n",
       "    }\n",
       "\n",
       "    .dataframe thead th {\n",
       "        text-align: right;\n",
       "    }\n",
       "</style>\n",
       "<table border=\"1\" class=\"dataframe\">\n",
       "  <thead>\n",
       "    <tr style=\"text-align: right;\">\n",
       "      <th></th>\n",
       "      <th>id</th>\n",
       "      <th>product</th>\n",
       "      <th>price</th>\n",
       "      <th>quantity</th>\n",
       "    </tr>\n",
       "  </thead>\n",
       "  <tbody>\n",
       "    <tr>\n",
       "      <th>0</th>\n",
       "      <td>1</td>\n",
       "      <td>Laptop</td>\n",
       "      <td>60000</td>\n",
       "      <td>1</td>\n",
       "    </tr>\n",
       "    <tr>\n",
       "      <th>1</th>\n",
       "      <td>2</td>\n",
       "      <td>Mouse</td>\n",
       "      <td>400</td>\n",
       "      <td>2</td>\n",
       "    </tr>\n",
       "    <tr>\n",
       "      <th>2</th>\n",
       "      <td>3</td>\n",
       "      <td>Laptop</td>\n",
       "      <td>60000</td>\n",
       "      <td>1</td>\n",
       "    </tr>\n",
       "    <tr>\n",
       "      <th>3</th>\n",
       "      <td>4</td>\n",
       "      <td>Keyboard</td>\n",
       "      <td>700</td>\n",
       "      <td>1</td>\n",
       "    </tr>\n",
       "    <tr>\n",
       "      <th>4</th>\n",
       "      <td>5</td>\n",
       "      <td>Mouse</td>\n",
       "      <td>400</td>\n",
       "      <td>1</td>\n",
       "    </tr>\n",
       "  </tbody>\n",
       "</table>\n",
       "</div>"
      ],
      "text/plain": [
       "   id   product  price  quantity\n",
       "0   1    Laptop  60000         1\n",
       "1   2     Mouse    400         2\n",
       "2   3    Laptop  60000         1\n",
       "3   4  Keyboard    700         1\n",
       "4   5     Mouse    400         1"
      ]
     },
     "execution_count": 3,
     "metadata": {},
     "output_type": "execute_result"
    }
   ],
   "source": [
    "df"
   ]
  },
  {
   "cell_type": "code",
   "execution_count": 13,
   "id": "bc91e937-b192-4b56-9c80-44dca4308606",
   "metadata": {},
   "outputs": [],
   "source": [
    "df['revenue'] = df['price'] * df['quantity']"
   ]
  },
  {
   "cell_type": "code",
   "execution_count": 14,
   "id": "d083ef2a-ee61-48d4-bd6d-dca1c6051bf7",
   "metadata": {},
   "outputs": [],
   "source": [
    "result = df.groupby('product')['revenue'].sum()"
   ]
  },
  {
   "cell_type": "code",
   "execution_count": 15,
   "id": "72c2c81c-89d0-41f1-90bc-6d074396789e",
   "metadata": {},
   "outputs": [
    {
     "name": "stdout",
     "output_type": "stream",
     "text": [
      "Product-wise Revenue:\n",
      "Keyboard - ₹700\n",
      "Laptop - ₹120000\n",
      "Mouse - ₹1200\n"
     ]
    }
   ],
   "source": [
    "print(\"Product-wise Revenue:\")\n",
    "for product, revenue in result.items():\n",
    "    print(f\"{product} - ₹{revenue}\")"
   ]
  },
  {
   "cell_type": "code",
   "execution_count": null,
   "id": "10c53f69-64eb-4fd7-a5af-9950836baa61",
   "metadata": {},
   "outputs": [],
   "source": []
  }
 ],
 "metadata": {
  "kernelspec": {
   "display_name": "Python 3 (ipykernel)",
   "language": "python",
   "name": "python3"
  },
  "language_info": {
   "codemirror_mode": {
    "name": "ipython",
    "version": 3
   },
   "file_extension": ".py",
   "mimetype": "text/x-python",
   "name": "python",
   "nbconvert_exporter": "python",
   "pygments_lexer": "ipython3",
   "version": "3.13.5"
  }
 },
 "nbformat": 4,
 "nbformat_minor": 5
}
